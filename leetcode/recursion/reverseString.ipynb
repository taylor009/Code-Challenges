{
 "cells": [
  {
   "cell_type": "code",
   "execution_count": 5,
   "metadata": {
    "collapsed": true,
    "pycharm": {
     "is_executing": false
    }
   },
   "outputs": [
    {
     "data": {
      "text/plain": "[5, 4, 3, 2, 1]"
     },
     "metadata": {},
     "output_type": "execute_result",
     "execution_count": 5
    }
   ],
   "source": [
    "class Solution:\n",
    "    def reverseString(self, s, lo=0, hi=None):\n",
    "        if hi is None :\n",
    "            hi = len(s) - 1\n",
    "\n",
    "        if hi <= lo:\n",
    "            return s\n",
    "\n",
    "        s[lo], s[hi] = s[hi], s[lo]\n",
    "        return self.reverseString(s, lo + 1, hi - 1)\n",
    "\n",
    "\n",
    "s = Solution()\n",
    "s.reverseString([1, 2, 3, 4])\n",
    "# [4, 3, 2, 1]\n",
    "s.reverseString([1, 2, 3, 4, 5])\n",
    "#[5, 4, 3, 2, 1]"
   ]
  }
 ],
 "metadata": {
  "kernelspec": {
   "display_name": "Python 3",
   "language": "python",
   "name": "python3"
  },
  "language_info": {
   "codemirror_mode": {
    "name": "ipython",
    "version": 2
   },
   "file_extension": ".py",
   "mimetype": "text/x-python",
   "name": "python",
   "nbconvert_exporter": "python",
   "pygments_lexer": "ipython2",
   "version": "2.7.6"
  },
  "pycharm": {
   "stem_cell": {
    "cell_type": "raw",
    "source": [],
    "metadata": {
     "collapsed": false
    }
   }
  }
 },
 "nbformat": 4,
 "nbformat_minor": 0
}